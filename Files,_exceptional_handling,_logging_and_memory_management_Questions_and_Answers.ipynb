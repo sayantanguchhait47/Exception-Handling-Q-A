{
  "nbformat": 4,
  "nbformat_minor": 0,
  "metadata": {
    "colab": {
      "provenance": []
    },
    "kernelspec": {
      "name": "python3",
      "display_name": "Python 3"
    },
    "language_info": {
      "name": "python"
    }
  },
  "cells": [
    {
      "cell_type": "markdown",
      "source": [
        "# **Files, exceptional handling, logging and memory management Questions and Answers**\n",
        "\n",
        "\n",
        "1. What is the difference between interpreted and compiled languages?\n",
        "\n",
        "Ans: Compiled languages (C, C++) are translated into machine code before execution. They generally run faster but require compilation beforehand. Interpreted languages (Python, JavaScript) are executed line by line by an interpreter, making development easier but slower compared to compiled languages.\n",
        "\n",
        "2. What is exception handling in Python?\n",
        "\n",
        "Ans: Exception handling is a mechanism in Python to handle runtime errors gracefully using try, except, else, and finally blocks.\n",
        "\n",
        "3. What is the purpose of the finally block in exception handling?\n",
        "\n",
        "Ans: The finally block executes code regardless of whether an exception occurred or not. It is often used for cleanup operations like closing files or releasing resources.\n",
        "\n",
        "4. What is logging in Python?\n",
        "\n",
        "Ans: Logging is a way of recording events, errors, and informational messages during program execution to help debugging and monitoring.\n",
        "\n",
        "5. What is the significance of the __del__ method in Python?\n",
        "\n",
        "Ans: The __del__ method is a destructor called when an object is about to be destroyed. It is mainly used to release external resources like files or network connections.\n",
        "\n",
        "6. What is the difference between import and from_import in Python?\n",
        "\n",
        "Ans: import module imports the entire module, requiring module.function() to access items. from_import function imports specific functions, so they can be used directly without the module prefix.\n",
        "\n",
        "7. How can you handle multiple exceptions in Python?\n",
        "\n",
        "Ans: I can handle multipke exceptions in python by using multiple except blocks for different exceptions.\n",
        "\n",
        "8. What is the purpose of the with statement when handling files in Python?\n",
        "\n",
        "Ans: The with statement ensures a file is properly opened and closed automatically, even if an error occurs.\n",
        "\n",
        "9. What is the difference between multithreading and multiprocessing?\n",
        "\n",
        "Ans: Multithreading: Multiple threads share the same memory space (good for I/O-bound tasks). Multiprocessing: Multiple processes run independently with separate memory (good for CPU-bound tasks).\n",
        "\n",
        "10. What are the advantages of using logging in a program?\n",
        "\n",
        "Ans: Provides detailed runtime information.\n",
        "\n",
        "Helps debugging and error tracking.\n",
        "\n",
        "Can be configured for different severity levels.\n",
        "\n",
        "Supports output to files, consoles, or remote servers.\n",
        "\n",
        "11. What is memory management in Python?\n",
        "\n",
        "Ans: Python uses automatic memory management with a private heap space and garbage collection for unused objects.\n",
        "\n",
        "12. What are the basic steps involved in exception handling in Python?\n",
        "\n",
        "Ans: Wrap risky code inside try.\n",
        "\n",
        "Catch exceptions with except.\n",
        "\n",
        "Use else for code that runs if no error occurs.\n",
        "\n",
        "Use finally for cleanup.\n",
        "\n",
        "13. Why is memory management important in Python?\n",
        "\n",
        "Ans: Efficient memory management prevents memory leaks, improves performance, and ensures that unused memory is reclaimed.\n",
        "\n",
        "14. What is the role of try and except in exception handling?\n",
        "\n",
        "Ans: try: Wraps code that might raise an error.\n",
        "\n",
        "except: Handles the error gracefully instead of crashing the program.\n",
        "\n",
        "\n",
        "15. How does Python's garbage collection system work?\n",
        "\n",
        "Ans: Python uses reference counting and a cyclic garbage collector. When an object’s reference count drops to zero, it is destroyed, freeing memory.\n",
        "\n",
        "16. What is the purpose of the else block in exception handling?\n",
        "\n",
        "Ans: The else block runs only if no exception occurs inside the try block.\n",
        "\n",
        "17. What are the common logging levels in Python?\n",
        "\n",
        "Ans: DEBUG – Detailed info for debugging.\n",
        "\n",
        "INFO – General program progress.\n",
        "\n",
        "WARNING – Something unexpected happened.\n",
        "\n",
        "ERROR – A serious problem.\n",
        "\n",
        "CRITICAL – Very severe errors.\n",
        "\n",
        "18. What is the difference between os.fork() and multiprocessing in Python?\n",
        "\n",
        "Ans: os.fork() (Unix only) creates a child process as a duplicate of the parent.\n",
        "\n",
        "multiprocessing is a cross-platform module that provides process-based parallelism with easier APIs.\n",
        "\n",
        "19. What is the importance of closing a file in Python?\n",
        "\n",
        "Ans: Closing a file ensures that:\n",
        "\n",
        "Data is properly saved/written.\n",
        "\n",
        "System resources are released.\n",
        "\n",
        "No data corruption occurs.\n",
        "\n",
        "20. What is the difference between file.read() and file.readline() in Python?\n",
        "\n",
        "Ans: file.read() reads the entire file as a string.\n",
        "\n",
        "file.readline() reads only one line at a time.\n",
        "\n",
        "21. What is the logging module in Python used for?\n",
        "\n",
        "Ans: It is used for generating log messages at different severity levels, allowing developers to monitor and debug applications.\n",
        "\n",
        "22. What is the os module in Python used for in file handling?\n",
        "\n",
        "Ans: The os module provides functions for interacting with the operating system, such as creating, deleting, renaming, and navigating directories.\n",
        "\n",
        "23. What are the challenges associated with memory management in Python?\n",
        "\n",
        "Ans: Handling circular references.\n",
        "\n",
        "High memory usage with large datasets.\n",
        "\n",
        "Performance issues with garbage collection pauses.\n",
        "\n",
        "24. How do you raise an exception manually in Python?\n",
        "\n",
        "Ans: Using the raise keyword:\n",
        "\n",
        "raise ValueError(\"Invalid input\")\n",
        "\n",
        "25. Why is it important to use multithreading in certain applications?\n",
        "\n",
        "Ans: Multithreading improves performance in I/O-bound applications ( web servers, file downloads) by allowing concurrent operations and reducing idle CPU time.\n"
      ],
      "metadata": {
        "id": "PDnKXBiqxHGs"
      }
    },
    {
      "cell_type": "markdown",
      "source": [
        "# **Files, exceptional handling, logging and memory management Questions and Answers Practicial**"
      ],
      "metadata": {
        "id": "9CcdS14A3Ilo"
      }
    },
    {
      "cell_type": "code",
      "execution_count": 1,
      "metadata": {
        "id": "YlNo5VkdxE7Q"
      },
      "outputs": [],
      "source": [
        "#1. Open a file for writing and write a string\n",
        "with open(\"example.txt\", \"w\") as f:\n",
        "    f.write(\"Hello, this is a test string!\")"
      ]
    },
    {
      "cell_type": "code",
      "source": [
        "#2. Read contents of a file and print each line\n",
        "with open(\"example.txt\", \"r\") as f:\n",
        "    for line in f:\n",
        "        print(line.strip())"
      ],
      "metadata": {
        "colab": {
          "base_uri": "https://localhost:8080/"
        },
        "id": "0YdLgGxj3oXM",
        "outputId": "47d8b1b6-0942-4c01-cf26-87c45ed9a819"
      },
      "execution_count": 2,
      "outputs": [
        {
          "output_type": "stream",
          "name": "stdout",
          "text": [
            "Hello, this is a test string!\n"
          ]
        }
      ]
    },
    {
      "cell_type": "code",
      "source": [
        "#3. Handle case where file doesn’t exist\n",
        "try:\n",
        "    with open(\"missing.txt\", \"r\") as f:\n",
        "        print(f.read())\n",
        "except FileNotFoundError:\n",
        "    print(\"Error: File does not exist.\")"
      ],
      "metadata": {
        "colab": {
          "base_uri": "https://localhost:8080/"
        },
        "id": "wbEUwnR33s0n",
        "outputId": "8b24798e-1aee-4c94-9875-3cee6290369e"
      },
      "execution_count": 3,
      "outputs": [
        {
          "output_type": "stream",
          "name": "stdout",
          "text": [
            "Error: File does not exist.\n"
          ]
        }
      ]
    },
    {
      "cell_type": "code",
      "metadata": {
        "id": "b33e0cda"
      },
      "source": [
        "#4. Copy contents from one file to another\n",
        "\n",
        "# Create the source file with some content\n",
        "with open(\"source.txt\", \"w\") as f:\n",
        "    f.write(\"This is the content of the source file.\")"
      ],
      "execution_count": 8,
      "outputs": []
    },
    {
      "cell_type": "code",
      "metadata": {
        "id": "b5e823d0"
      },
      "source": [
        "# Now, copy contents from the source file to the destination file\n",
        "with open(\"source.txt\", \"r\") as src, open(\"destination.txt\", \"w\") as dest:\n",
        "    dest.write(src.read())"
      ],
      "execution_count": 7,
      "outputs": []
    },
    {
      "cell_type": "code",
      "source": [
        "#5. Handle division by zero error\n",
        "try:\n",
        "    result = 10 / 0\n",
        "except ZeroDivisionError:\n",
        "    print(\"Cannot divide by zero!\")"
      ],
      "metadata": {
        "colab": {
          "base_uri": "https://localhost:8080/"
        },
        "id": "CuNUwmbT4Hp1",
        "outputId": "5640db04-9d4c-4272-905c-f9c9dfd5cc42"
      },
      "execution_count": 9,
      "outputs": [
        {
          "output_type": "stream",
          "name": "stdout",
          "text": [
            "Cannot divide by zero!\n"
          ]
        }
      ]
    },
    {
      "cell_type": "code",
      "source": [
        "#6. Log error when division by zero occurs\n",
        "import logging\n",
        "\n",
        "logging.basicConfig(filename=\"error.log\", level=logging.ERROR)\n",
        "\n",
        "try:\n",
        "    result = 10 / 0\n",
        "except ZeroDivisionError as e:\n",
        "    logging.error(\"Division by zero error: %s\", e)"
      ],
      "metadata": {
        "colab": {
          "base_uri": "https://localhost:8080/"
        },
        "id": "Vo4JzEQc87iL",
        "outputId": "3d419ac3-1290-43e0-c33a-2879c0aeb459"
      },
      "execution_count": 10,
      "outputs": [
        {
          "output_type": "stream",
          "name": "stderr",
          "text": [
            "ERROR:root:Division by zero error: division by zero\n"
          ]
        }
      ]
    },
    {
      "cell_type": "code",
      "source": [
        "#7. Logging at different levels\n",
        "import logging\n",
        "\n",
        "logging.basicConfig(level=logging.DEBUG)\n",
        "\n",
        "logging.info(\"This is an info message\")\n",
        "logging.warning(\"This is a warning\")\n",
        "logging.error(\"This is an error\")"
      ],
      "metadata": {
        "colab": {
          "base_uri": "https://localhost:8080/"
        },
        "id": "QCffJOiS8-he",
        "outputId": "597c0d4b-44a3-40c0-a72a-0e9b1ee2d280"
      },
      "execution_count": 11,
      "outputs": [
        {
          "output_type": "stream",
          "name": "stderr",
          "text": [
            "WARNING:root:This is a warning\n",
            "ERROR:root:This is an error\n"
          ]
        }
      ]
    },
    {
      "cell_type": "code",
      "source": [
        "#8. Handle file opening error\n",
        "try:\n",
        "    with open(\"unknown.txt\", \"r\") as f:\n",
        "        print(f.read())\n",
        "except OSError as e:\n",
        "    print(\"File error:\", e)"
      ],
      "metadata": {
        "colab": {
          "base_uri": "https://localhost:8080/"
        },
        "id": "rr0E59DT9FA3",
        "outputId": "67e64a07-92b3-4b2d-e47b-3394982953be"
      },
      "execution_count": 12,
      "outputs": [
        {
          "output_type": "stream",
          "name": "stdout",
          "text": [
            "File error: [Errno 2] No such file or directory: 'unknown.txt'\n"
          ]
        }
      ]
    },
    {
      "cell_type": "code",
      "source": [
        "#9. Read file line by line into a list\n",
        "with open(\"example.txt\", \"r\") as f:\n",
        "    lines = f.readlines()\n",
        "\n",
        "print(lines)"
      ],
      "metadata": {
        "colab": {
          "base_uri": "https://localhost:8080/"
        },
        "id": "3kMXeEkn9VtE",
        "outputId": "5e369367-e9b8-4643-abfd-6c05cd7d98b4"
      },
      "execution_count": 13,
      "outputs": [
        {
          "output_type": "stream",
          "name": "stdout",
          "text": [
            "['Hello, this is a test string!']\n"
          ]
        }
      ]
    },
    {
      "cell_type": "code",
      "source": [
        "#10. Append data to an existing file\n",
        "with open(\"example.txt\", \"a\") as f:\n",
        "    f.write(\"\\nThis line is appended.\")"
      ],
      "metadata": {
        "id": "A6wb2H_D9Xgz"
      },
      "execution_count": 14,
      "outputs": []
    },
    {
      "cell_type": "code",
      "source": [
        "#11. Handle dictionary key error\n",
        "data = {\"name\": \"Alice\"}\n",
        "\n",
        "try:\n",
        "    print(data[\"age\"])\n",
        "except KeyError:\n",
        "    print(\"Key not found in dictionary.\")"
      ],
      "metadata": {
        "colab": {
          "base_uri": "https://localhost:8080/"
        },
        "id": "8_4tfvKl9fR1",
        "outputId": "96022b91-a32b-41ac-c962-ed5c2c533ce9"
      },
      "execution_count": 15,
      "outputs": [
        {
          "output_type": "stream",
          "name": "stdout",
          "text": [
            "Key not found in dictionary.\n"
          ]
        }
      ]
    },
    {
      "cell_type": "code",
      "source": [
        "#12. Multiple except blocks\n",
        "try:\n",
        "    x = int(\"hello\")  # ValueError\n",
        "    y = 10 / 0        # ZeroDivisionError\n",
        "except ValueError:\n",
        "    print(\"Invalid value conversion.\")\n",
        "except ZeroDivisionError:\n",
        "    print(\"Division by zero.\")"
      ],
      "metadata": {
        "colab": {
          "base_uri": "https://localhost:8080/"
        },
        "id": "PzjP6nvD9jhj",
        "outputId": "32934b8e-1705-4dda-ac6e-7a96a8f9021d"
      },
      "execution_count": 16,
      "outputs": [
        {
          "output_type": "stream",
          "name": "stdout",
          "text": [
            "Invalid value conversion.\n"
          ]
        }
      ]
    },
    {
      "cell_type": "code",
      "source": [
        "#13. Check if a file exists\n",
        "import os\n",
        "\n",
        "if os.path.exists(\"example.txt\"):\n",
        "    print(\"File exists.\")\n",
        "else:\n",
        "    print(\"File does not exist.\")"
      ],
      "metadata": {
        "colab": {
          "base_uri": "https://localhost:8080/"
        },
        "id": "9wpu2tp49mBA",
        "outputId": "9a98b745-bc30-4a39-cb61-f74d11ca587e"
      },
      "execution_count": 17,
      "outputs": [
        {
          "output_type": "stream",
          "name": "stdout",
          "text": [
            "File exists.\n"
          ]
        }
      ]
    },
    {
      "cell_type": "code",
      "source": [
        "#14. Logging informational + error messages\n",
        "import logging\n",
        "\n",
        "logging.basicConfig(filename=\"app.log\", level=logging.DEBUG)\n",
        "\n",
        "logging.info(\"Program started\")\n",
        "try:\n",
        "    x = 10 / 0\n",
        "except ZeroDivisionError:\n",
        "    logging.error(\"Division by zero occurred.\")"
      ],
      "metadata": {
        "colab": {
          "base_uri": "https://localhost:8080/"
        },
        "id": "5kilZ0G39rWM",
        "outputId": "3f77d020-e9f7-468d-aef6-ae02e4d98a9d"
      },
      "execution_count": 18,
      "outputs": [
        {
          "output_type": "stream",
          "name": "stderr",
          "text": [
            "ERROR:root:Division by zero occurred.\n"
          ]
        }
      ]
    },
    {
      "cell_type": "code",
      "source": [
        "#15. Print file content and handle empty file\n",
        "with open(\"example.txt\", \"r\") as f:\n",
        "    content = f.read()\n",
        "\n",
        "if content.strip():\n",
        "    print(content)\n",
        "else:\n",
        "    print(\"File is empty.\")"
      ],
      "metadata": {
        "colab": {
          "base_uri": "https://localhost:8080/"
        },
        "id": "CgQH-5ak9zDK",
        "outputId": "d41ae6e7-c9e0-453e-e498-7651af3b2ada"
      },
      "execution_count": 19,
      "outputs": [
        {
          "output_type": "stream",
          "name": "stdout",
          "text": [
            "Hello, this is a test string!\n",
            "This line is appended.\n"
          ]
        }
      ]
    },
    {
      "cell_type": "code",
      "metadata": {
        "colab": {
          "base_uri": "https://localhost:8080/"
        },
        "id": "86766f50",
        "outputId": "23392754-859f-4d49-c591-f74aa8f4c824"
      },
      "source": [
        "!pip install memory-profiler"
      ],
      "execution_count": 22,
      "outputs": [
        {
          "output_type": "stream",
          "name": "stdout",
          "text": [
            "Collecting memory-profiler\n",
            "  Downloading memory_profiler-0.61.0-py3-none-any.whl.metadata (20 kB)\n",
            "Requirement already satisfied: psutil in /usr/local/lib/python3.12/dist-packages (from memory-profiler) (5.9.5)\n",
            "Downloading memory_profiler-0.61.0-py3-none-any.whl (31 kB)\n",
            "Installing collected packages: memory-profiler\n",
            "Successfully installed memory-profiler-0.61.0\n"
          ]
        }
      ]
    },
    {
      "cell_type": "code",
      "source": [
        "#16. Memory profiling (using memory_profiler)\n",
        "from memory_profiler import profile\n",
        "\n",
        "@profile\n",
        "def small_program():\n",
        "    data = [i for i in range(10000)]\n",
        "    return sum(data)\n",
        "\n",
        "small_program()"
      ],
      "metadata": {
        "colab": {
          "base_uri": "https://localhost:8080/"
        },
        "id": "GjO9A5Bx-CD4",
        "outputId": "c2108f9e-0018-4e67-e783-e2613638d890"
      },
      "execution_count": 23,
      "outputs": [
        {
          "output_type": "stream",
          "name": "stdout",
          "text": [
            "ERROR: Could not find file /tmp/ipython-input-2085564797.py\n"
          ]
        },
        {
          "output_type": "execute_result",
          "data": {
            "text/plain": [
              "49995000"
            ]
          },
          "metadata": {},
          "execution_count": 23
        }
      ]
    },
    {
      "cell_type": "code",
      "source": [
        "#17. Write list of numbers to file\n",
        "numbers = [1, 2, 3, 4, 5]\n",
        "\n",
        "with open(\"numbers.txt\", \"w\") as f:\n",
        "    for num in numbers:\n",
        "        f.write(str(num) + \"\\n\")\n"
      ],
      "metadata": {
        "id": "1YpZO5eT-FlP"
      },
      "execution_count": 24,
      "outputs": []
    },
    {
      "cell_type": "code",
      "source": [
        "#18. Logging with rotation after 1MB\n",
        "import logging\n",
        "from logging.handlers import RotatingFileHandler\n",
        "\n",
        "handler = RotatingFileHandler(\"rotated.log\", maxBytes=1_000_000, backupCount=3)\n",
        "logging.basicConfig(handlers=[handler], level=logging.INFO)\n",
        "\n",
        "logging.info(\"This is a rotating log message.\")"
      ],
      "metadata": {
        "id": "FhXLRvmq-NpT"
      },
      "execution_count": 25,
      "outputs": []
    },
    {
      "cell_type": "code",
      "source": [
        "#19. Handle IndexError and KeyError\n",
        "data = {\"name\": \"Bob\"}\n",
        "lst = [1, 2, 3]\n",
        "\n",
        "try:\n",
        "    print(lst[5])       # IndexError\n",
        "    print(data[\"age\"])  # KeyError\n",
        "except IndexError:\n",
        "    print(\"List index out of range.\")\n",
        "except KeyError:\n",
        "    print(\"Dictionary key not found.\")"
      ],
      "metadata": {
        "colab": {
          "base_uri": "https://localhost:8080/"
        },
        "id": "beFTbXn0-WqP",
        "outputId": "b255fb84-8731-453c-ce73-74cafd76fc82"
      },
      "execution_count": 26,
      "outputs": [
        {
          "output_type": "stream",
          "name": "stdout",
          "text": [
            "List index out of range.\n"
          ]
        }
      ]
    },
    {
      "cell_type": "code",
      "source": [
        "#20. Read file with context manager\n",
        "with open(\"example.txt\", \"r\") as f:\n",
        "    content = f.read()\n",
        "\n",
        "print(content)"
      ],
      "metadata": {
        "colab": {
          "base_uri": "https://localhost:8080/"
        },
        "id": "RkzsIuNf-cfW",
        "outputId": "02426c6c-5f69-4b88-caa5-2e07e36fcbdc"
      },
      "execution_count": 27,
      "outputs": [
        {
          "output_type": "stream",
          "name": "stdout",
          "text": [
            "Hello, this is a test string!\n",
            "This line is appended.\n"
          ]
        }
      ]
    },
    {
      "cell_type": "code",
      "source": [
        "#21. Count word occurrences in a file\n",
        "word = \"Python\"\n",
        "count = 0\n",
        "\n",
        "with open(\"example.txt\", \"r\") as f:\n",
        "    for line in f:\n",
        "        count += line.count(word)\n",
        "\n",
        "print(f\"The word '{word}' occurs {count} times.\")"
      ],
      "metadata": {
        "colab": {
          "base_uri": "https://localhost:8080/"
        },
        "id": "H6TaS1CH-h2F",
        "outputId": "5ad3f02b-c003-4d1d-fb73-87ad1fd7b6d8"
      },
      "execution_count": 28,
      "outputs": [
        {
          "output_type": "stream",
          "name": "stdout",
          "text": [
            "The word 'Python' occurs 0 times.\n"
          ]
        }
      ]
    },
    {
      "cell_type": "code",
      "source": [
        "#22. Check if a file is empty\n",
        "import os\n",
        "\n",
        "if os.path.getsize(\"example.txt\") == 0:\n",
        "    print(\"File is empty.\")\n",
        "else:\n",
        "    print(\"File has content.\")"
      ],
      "metadata": {
        "colab": {
          "base_uri": "https://localhost:8080/"
        },
        "id": "C9fLQ6Xp-mHe",
        "outputId": "5053d76b-a1f0-4bb4-d2ea-f83d430cea3b"
      },
      "execution_count": 29,
      "outputs": [
        {
          "output_type": "stream",
          "name": "stdout",
          "text": [
            "File has content.\n"
          ]
        }
      ]
    },
    {
      "cell_type": "code",
      "source": [
        "#23. Log error during file handling\n",
        "import logging\n",
        "\n",
        "logging.basicConfig(filename=\"file_error.log\", level=logging.ERROR)\n",
        "\n",
        "try:\n",
        "    with open(\"missing.txt\", \"r\") as f:\n",
        "        print(f.read())\n",
        "except Exception as e:\n",
        "    logging.error(\"File handling error: %s\", e)"
      ],
      "metadata": {
        "colab": {
          "base_uri": "https://localhost:8080/"
        },
        "id": "BJapMy5o-sCx",
        "outputId": "842190ac-47db-44a9-c484-d78910b36206"
      },
      "execution_count": 30,
      "outputs": [
        {
          "output_type": "stream",
          "name": "stderr",
          "text": [
            "ERROR:root:File handling error: [Errno 2] No such file or directory: 'missing.txt'\n"
          ]
        }
      ]
    }
  ]
}